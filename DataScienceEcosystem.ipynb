{
 "cells": [
  {
   "cell_type": "markdown",
   "id": "cafbf4d1-ef46-47fa-b6e3-8720210b4153",
   "metadata": {},
   "source": [
    "# Data Science Tools and Ecosystem"
   ]
  },
  {
   "cell_type": "markdown",
   "id": "6232f3b6-202e-4fce-9330-377944d87d59",
   "metadata": {},
   "source": [
    "### In this notebook, Data Science Tools and Ecosystem are summarized."
   ]
  },
  {
   "cell_type": "markdown",
   "id": "793eeaeb-ffed-4aed-b9fa-1dcff4e5b603",
   "metadata": {
    "jp-MarkdownHeadingCollapsed": true
   },
   "source": [
    "__Objectives:__\n",
    "* Some of the popular languages that Data Scientists use are\n",
    "* Some of the commonly used libraries used by Data Scientists include\n",
    "* Data Science Tools"
   ]
  },
  {
   "cell_type": "markdown",
   "id": "12cf39f0-6eba-45ea-9155-6a4b7e979f2f",
   "metadata": {},
   "source": [
    "### Some of the popular languages that Data Scientists use are:"
   ]
  },
  {
   "cell_type": "markdown",
   "id": "19e87f30-ed70-43ee-9b21-6d6cdf13302d",
   "metadata": {},
   "source": [
    "1. Python\n",
    "2. R\n",
    "3. C++"
   ]
  },
  {
   "cell_type": "markdown",
   "id": "3caf730a-5a68-4796-bd18-2e88223bad23",
   "metadata": {},
   "source": [
    "### Some of the commonly used libraries used by Data Scientists include:"
   ]
  },
  {
   "cell_type": "markdown",
   "id": "b62e45cc-6ee2-4152-ad48-1a61c962483c",
   "metadata": {},
   "source": [
    "1. NumPy\n",
    "2. Pandas\n",
    "3. Matplotlib"
   ]
  },
  {
   "cell_type": "markdown",
   "id": "1727b266-4a2f-43cd-b437-111933859e8f",
   "metadata": {},
   "source": [
    "| Data Science Tools     |\n",
    "|:-----------------------|\n",
    "| Jupyter Notebook       | \n",
    "| RStudio                | \n",
    "| VS Code                | "
   ]
  },
  {
   "cell_type": "markdown",
   "id": "0bb5b4f2-d45a-4967-a132-8e3c5992eced",
   "metadata": {},
   "source": [
    "### Below are a few examples of evaluating arithmetic expressions in Python"
   ]
  },
  {
   "cell_type": "code",
   "execution_count": 9,
   "id": "ae2dfdf5-6f78-4ce2-8692-5570877460dd",
   "metadata": {},
   "outputs": [
    {
     "data": {
      "text/plain": [
       "17"
      ]
     },
     "execution_count": 9,
     "metadata": {},
     "output_type": "execute_result"
    }
   ],
   "source": [
    "# This a simple arithmetic expression to mutiply then add integers\n",
    "(3*4)+5"
   ]
  },
  {
   "cell_type": "code",
   "execution_count": 10,
   "id": "30e22af5-05ba-4a3c-bdaf-dd9d22077f72",
   "metadata": {},
   "outputs": [
    {
     "name": "stdout",
     "output_type": "stream",
     "text": [
      "3.3333333333333335\n"
     ]
    }
   ],
   "source": [
    "#  This will convert 200 minutes to hours by diving by 60\n",
    "Min = 200\n",
    "H = 60\n",
    "print(Min / H)"
   ]
  },
  {
   "cell_type": "markdown",
   "id": "ecb48774-128f-4dfd-8a08-fa3d146b2eb3",
   "metadata": {},
   "source": [
    "## Author\n",
    "Juan Feroglio"
   ]
  },
  {
   "cell_type": "code",
   "execution_count": null,
   "id": "55f7dbc5-9810-4c8d-b934-18631cd366bf",
   "metadata": {},
   "outputs": [],
   "source": []
  }
 ],
 "metadata": {
  "kernelspec": {
   "display_name": "Python [conda env:.conda] *",
   "language": "python",
   "name": "conda-env-.conda-py"
  },
  "language_info": {
   "codemirror_mode": {
    "name": "ipython",
    "version": 3
   },
   "file_extension": ".py",
   "mimetype": "text/x-python",
   "name": "python",
   "nbconvert_exporter": "python",
   "pygments_lexer": "ipython3",
   "version": "3.9.23"
  }
 },
 "nbformat": 4,
 "nbformat_minor": 5
}
